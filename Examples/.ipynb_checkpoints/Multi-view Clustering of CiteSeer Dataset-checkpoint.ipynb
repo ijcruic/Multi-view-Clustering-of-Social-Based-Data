{
 "cells": [
  {
   "cell_type": "markdown",
   "id": "8fcf2155-2ecb-4425-b72b-242066cc8db7",
   "metadata": {},
   "source": [
    "# Multi-view Clustering Demo\n",
    "In this notebook we are going to demo how to use the MVMC algorithm to cluster [CiteSeer](https://dl.acm.org/doi/10.1145/276675.276685) data. the data set itself consists of both a citation network and processed content from the papers. To do this, we will do the following\n",
    "- read in and pre-process the data\n",
    "- create networks of any views that need a network\n",
    "- Use MVMC to cluster the data"
   ]
  },
  {
   "cell_type": "code",
   "execution_count": 1,
   "id": "19188853-fcde-4e9b-bdb4-c41ec8a09ec9",
   "metadata": {},
   "outputs": [],
   "source": [
    "# import neccesary packages\n",
    "from sklearn.metrics import adjusted_rand_score, adjusted_mutual_info_score\n",
    "from sklearn.decomposition import LatentDirichletAllocation\n",
    "from sklearn.neighbors import kneighbors_graph\n",
    "\n",
    "import pandas as pd, networkx as nx, numpy as np\n",
    "from scipy.sparse import csr_matrix\n",
    "import os, sys"
   ]
  },
  {
   "cell_type": "code",
   "execution_count": 2,
   "id": "f898852b-c1e0-4c1c-ba82-a7d3084f8ed4",
   "metadata": {},
   "outputs": [],
   "source": [
    "# Now, lets import MVMC from the base file\n",
    "# Add the directory containing multi_view_clustering.py to the Python path\n",
    "sys.path.append(os.path.abspath('..'))\n",
    "\n",
    "from multi_view_clustering import MVMC"
   ]
  },
  {
   "cell_type": "markdown",
   "id": "37b5df3e-5d2a-4fb1-8096-8f0105b928ed",
   "metadata": {},
   "source": [
    "## Import and Preprocess the data\n",
    "Having imported all the neccesary packages, we will now import and pre-process the CiteSeer data set."
   ]
  },
  {
   "cell_type": "code",
   "execution_count": 3,
   "id": "90486a38-b0e1-42de-882b-31596e35ec6d",
   "metadata": {},
   "outputs": [],
   "source": [
    "content = pd.read_csv(os.path.join('Data','CiteSeer','citeseer_content.csv'), header=0, index_col=0, dtype={0: object})\n",
    "links = pd.read_csv(os.path.join('Data','CiteSeer','citeseer_network_links.csv'), header=0, index_col=None, dtype=object) "
   ]
  },
  {
   "cell_type": "code",
   "execution_count": 4,
   "id": "0a46baf9-d3b2-4f8a-bfad-97cd393724b7",
   "metadata": {},
   "outputs": [],
   "source": [
    "# Next, we will pre-process the data to remove some nodes that do not exist across the views of the dataset\n",
    "\n",
    "discrepancies = list(np.setdiff1d(links['Source'], content.index)) + list(np.setdiff1d(links['Target'], content.index))\n",
    "links = links[~links['Source'].isin(discrepancies)]\n",
    "links = links[~links['Target'].isin(discrepancies)]\n",
    "content = content[~content.index.isin(discrepancies)]"
   ]
  },
  {
   "cell_type": "code",
   "execution_count": 5,
   "id": "88febebf-8dd9-45e1-82a8-f60cdbd37ea0",
   "metadata": {},
   "outputs": [
    {
     "name": "stdout",
     "output_type": "stream",
     "text": [
      "network size: (3312, 3312)\n",
      "nodal content size: (3312, 3704)\n"
     ]
    }
   ],
   "source": [
    "# Now, we'll use NetworkX's network constructor to do the network constructions for us\n",
    "\n",
    "network = nx.from_pandas_edgelist(links, source='Source', target='Target', create_using=nx.DiGraph())\n",
    "df = nx.to_pandas_adjacency(network)\n",
    "content = content.reindex(labels=df.index, axis='index')\n",
    "adjacency = df.values\n",
    "\n",
    "print(f\"network size: {adjacency.shape}\")\n",
    "print(f\"nodal content size: {content.shape}\")"
   ]
  },
  {
   "cell_type": "code",
   "execution_count": 6,
   "id": "b3e1fae1-f2f0-462b-b2c0-298a58e4cfb4",
   "metadata": {},
   "outputs": [
    {
     "name": "stdout",
     "output_type": "stream",
     "text": [
      "unique labels and counts for the dataset:\n",
      "2    701\n",
      "4    668\n",
      "1    596\n",
      "5    590\n",
      "3    508\n",
      "0    249\n",
      "Name: count, dtype: int64\n"
     ]
    }
   ],
   "source": [
    "# Finally, let's take our the labels from the content view\n",
    "\n",
    "X = content.iloc[:,:-1]\n",
    "y = content.iloc[:,-1].astype('category').cat.codes\n",
    "\n",
    "print(f\"unique labels and counts for the dataset:\\n{y.value_counts()}\")"
   ]
  },
  {
   "cell_type": "markdown",
   "id": "68f73e84-5652-43c3-a41f-6403be221674",
   "metadata": {},
   "source": [
    "# Create the Base Networks for Clustering\n",
    "Having the data imported and processed, we'll now begin with the first step of MVMC: convert the different views to networks. We note here that those views which are explicitly networks already, such as the citation network CiteSeer, could be taken as is, or could be transformed into a different type of network, such as a network of shared neighbors. \n",
    "\n",
    "The creation of networks for each of the views can be done in many, many different ways and should be done with repsect to the domain. Fidning optimal view networks remains further research for this method, and more generally."
   ]
  },
  {
   "cell_type": "code",
   "execution_count": 7,
   "id": "b62df546-f6ec-4152-94db-b66b0da8de48",
   "metadata": {},
   "outputs": [],
   "source": [
    "networks = []\n",
    "networks.append(csr_matrix(adjacency))"
   ]
  },
  {
   "cell_type": "code",
   "execution_count": 8,
   "id": "c99ee3e3-9583-4db4-98c2-8448de7a5ffc",
   "metadata": {},
   "outputs": [],
   "source": [
    "# add in a k-NN for the content view\n",
    "\n",
    "kNN = kneighbors_graph(X, metric='cosine', mode='connectivity', n_neighbors=40)\n",
    "kNN = kNN.minimum(kNN.T)\n",
    "networks.append(kNN)"
   ]
  },
  {
   "cell_type": "markdown",
   "id": "f2c5a430-9074-4c38-a37c-fed049a73a92",
   "metadata": {},
   "source": [
    "Once of the great difficulties of multi-view data is that there can be a lot of heterogeneity between the different views of the data. This difference will present itself even after converting the different views to the same type of data (i.e., network). Let's look at some simple network properties of the networks we just created to see this"
   ]
  },
  {
   "cell_type": "code",
   "execution_count": 9,
   "id": "4324342d-5ffd-469e-90dc-8ec66cf95df2",
   "metadata": {},
   "outputs": [],
   "source": [
    "def calculate_density(csr_adj_matrix):\n",
    "    # Number of nodes\n",
    "    num_nodes = csr_adj_matrix.shape[0]\n",
    "    # Number of possible edges in an undirected graph\n",
    "    possible_edges = num_nodes * (num_nodes - 1) / 2\n",
    "    # Actual number of edges (considering it's an undirected graph)\n",
    "    actual_edges = csr_adj_matrix.nnz / 2\n",
    "    # Density: actual number of edges / possible number of edges\n",
    "    density = actual_edges / possible_edges\n",
    "    \n",
    "    return density\n",
    "\n",
    "def calculate_average_degree(csr_adj_matrix):\n",
    "    # Number of nodes\n",
    "    num_nodes = csr_adj_matrix.shape[0]\n",
    "    # Degree of each node (sum of connections)\n",
    "    degrees = csr_adj_matrix.sum(axis=1)\n",
    "    # Average degree\n",
    "    average_degree = degrees.mean()\n",
    "    \n",
    "    return average_degree"
   ]
  },
  {
   "cell_type": "code",
   "execution_count": 10,
   "id": "cc6528ad-4ab7-4c9e-80b7-4ba370d0b867",
   "metadata": {},
   "outputs": [
    {
     "name": "stdout",
     "output_type": "stream",
     "text": [
      "Density for the citation network :0.0004299640927547904\n",
      "Density for the k-NN content network: 0.0074781835398620026\n"
     ]
    }
   ],
   "source": [
    "print(f\"Density for the citation network :{calculate_density(networks[0])}\\nDensity for the k-NN content network: {calculate_density(networks[1])}\")"
   ]
  },
  {
   "cell_type": "code",
   "execution_count": 11,
   "id": "4a8a7a41-6ab6-4803-8aae-4523b9c5579f",
   "metadata": {},
   "outputs": [
    {
     "name": "stdout",
     "output_type": "stream",
     "text": [
      "Density for the citation network :1.4236111111111112\n",
      "Density for the k-NN content network: 24.760265700483092\n"
     ]
    }
   ],
   "source": [
    "print(f\"Density for the citation network :{calculate_average_degree(networks[0])}\\nDensity for the k-NN content network: {calculate_average_degree(networks[1])}\")"
   ]
  },
  {
   "cell_type": "markdown",
   "id": "f1f79f58-d5f4-4b33-9d22-8a5dd1262294",
   "metadata": {},
   "source": [
    "# Cluster by MVMC\n",
    "Having created networks from each of the views, lets now cluster them by MVMC"
   ]
  },
  {
   "cell_type": "code",
   "execution_count": 12,
   "id": "2def3484-0459-428e-8257-80e3823fc9f5",
   "metadata": {},
   "outputs": [],
   "source": [
    "mvmc_clstr= MVMC(verbose = True, resolution_tol=0.1)"
   ]
  },
  {
   "cell_type": "code",
   "execution_count": 13,
   "id": "1227af34-11e2-4fb9-b488-93ce67892c17",
   "metadata": {
    "scrolled": true
   },
   "outputs": [
    {
     "name": "stdout",
     "output_type": "stream",
     "text": [
      "View Graph 0: num_nodes: 3312, num_edges: 4715, directed: True, num_components: 438, num_isolates: 48\n",
      "View Graph 1: num_nodes: 3312, num_edges: 41003, directed: False, num_components: 4, num_isolates: 3\n",
      "--------\n",
      "Iteration: 1 \n",
      " Modularities: [0.599437502881645, 0.4874101643146264] \n",
      " Resolutions: [1, 1] \n",
      " Weights: [1, 1]\n",
      "--------\n",
      "Iteration: 2 \n",
      " Modularities: [0.4639523461010775, 0.4094532316111103] \n",
      " Resolutions: [2.569541079847051, 1.6748032557227184] \n",
      " Weights: [1.218383944721614, 0.7816160552783862]\n",
      "--------\n",
      "Iteration: 3 \n",
      " Modularities: [0.4091614651442202, 0.35629530570683154] \n",
      " Resolutions: [4.229043828406161, 2.5305914818810766] \n",
      " Weights: [1.1865432655551256, 0.8134567344448745]\n",
      "--------\n",
      "Iteration: 4 \n",
      " Modularities: [0.37722225837255574, 0.3161509944283575] \n",
      " Resolutions: [5.916187318901956, 3.6002446960723975] \n",
      " Weights: [1.161563563205802, 0.8384364367941981]\n",
      "--------\n",
      "Iteration: 5 \n",
      " Modularities: [0.35752134284653686, 0.28777158064024067] \n",
      " Resolutions: [8.735916720699377, 4.772006108412868] \n",
      " Weights: [1.1489767947965903, 0.8510232052034097]\n",
      "--------\n",
      "Iteration: 6 \n",
      " Modularities: [0.32234537824383735, 0.2661672212947565] \n",
      " Resolutions: [12.394742606347195, 6.09189292534866] \n",
      " Weights: [1.1502360368533584, 0.8497639631466415]\n",
      "--------\n",
      "Iteration: 7 \n",
      " Modularities: [0.3089394188135358, 0.24996984290573526] \n",
      " Resolutions: [15.438105321278625, 7.227817911483304] \n",
      " Weights: [1.1460270507039083, 0.8539729492960918]\n",
      "--------\n",
      "Iteration: 8 \n",
      " Modularities: [0.2858620047991088, 0.24165700583886263] \n",
      " Resolutions: [17.826764294761755, 8.027512575493102] \n",
      " Weights: [1.14745674761874, 0.8525432523812599]\n",
      "--------\n",
      "Iteration: 9 \n",
      " Modularities: [0.2990303716804811, 0.23400023339183135] \n",
      " Resolutions: [18.856602187257945, 8.595092654534618] \n",
      " Weights: [1.141549904309212, 0.858450095690788]\n",
      "--------\n",
      "Iteration: 10 \n",
      " Modularities: [0.2927015547929218, 0.23069787626658464] \n",
      " Resolutions: [20.399940132820745, 8.974459011801112] \n",
      " Weights: [1.14747717295834, 0.8525228270416602]\n",
      "--------\n",
      "Iteration: 11 \n",
      " Modularities: [0.28047202871714977, 0.22911316143771232] \n",
      " Resolutions: [21.647986209244507, 9.115420832764457] \n",
      " Weights: [1.1506415691917558, 0.8493584308082441]\n",
      "--------\n",
      "Iteration: 12 \n",
      " Modularities: [0.2775524844874686, 0.22591435012621824] \n",
      " Resolutions: [22.118064668408426, 9.520125734685989] \n",
      " Weights: [1.1454358928036499, 0.8545641071963502]\n",
      "--------\n",
      "Iteration: 13 \n",
      " Modularities: [0.28174392642488477, 0.22690301461189613] \n",
      " Resolutions: [21.847356284085645, 9.392389820692065] \n",
      " Weights: [1.1468217137477144, 0.8531782862522854]\n",
      "--------\n",
      "Iteration: 14 \n",
      " Modularities: [0.28090252403992977, 0.22590626269962358] \n",
      " Resolutions: [22.21545633385175, 9.424452813167338] \n",
      " Weights: [1.1478520690970397, 0.8521479309029603]\n",
      "--------\n",
      "Iteration: 15 \n",
      " Modularities: [0.27921379308247457, 0.22644546638819787] \n",
      " Resolutions: [22.370306408893775, 9.370525972444392] \n",
      " Weights: [1.1497742314130968, 0.8502257685869035]\n",
      "--------\n",
      "Iteration: 16 \n",
      " Modularities: [0.29098420041847406, 0.22469956034675093] \n",
      " Resolutions: [22.478804964912086, 9.515214136831327] \n",
      " Weights: [1.147804663442938, 0.852195336557062]\n",
      "--------\n",
      "Iteration: 17 \n",
      " Modularities: [0.2804004344765115, 0.22488035037644935] \n",
      " Resolutions: [23.025460422768614, 9.586796950583851] \n",
      " Weights: [1.1518523781786916, 0.8481476218213083]\n",
      "--------\n",
      "Iteration: 18 \n",
      " Modularities: [0.2714587284308945, 0.2248331480041611] \n",
      " Resolutions: [22.833116661981084, 9.755273515239269] \n",
      " Weights: [1.1470400936765597, 0.8529599063234403]\n",
      "--------\n",
      "Iteration: 19 \n",
      " Modularities: [0.27742366986482053, 0.22703004923277256] \n",
      " Resolutions: [22.28882770700581, 9.564836579298685] \n",
      " Weights: [1.1450654678295484, 0.8549345321704513]\n",
      "--------\n",
      "Iteration: 20 \n",
      " Modularities: [0.28053271151306264, 0.22731842093663585] \n",
      " Resolutions: [22.038074818905596, 9.394159500351565] \n",
      " Weights: [1.1471751116451223, 0.8528248883548779]\n",
      "MVMC did not converge, best result found: Iteration: 0, Modularity: 1.0868476671962715, Resolutions: [1, 1], Weights: [1, 1]\n"
     ]
    }
   ],
   "source": [
    "y_preds = mvmc_clstr.fit_transform(networks)"
   ]
  },
  {
   "cell_type": "code",
   "execution_count": 14,
   "id": "1b056e3a-bd72-420d-a6df-c7c506262915",
   "metadata": {},
   "outputs": [
    {
     "name": "stdout",
     "output_type": "stream",
     "text": [
      "Best modularity obtained: 1.0868476671962715\n",
      "Best result found at iteration: 0\n"
     ]
    }
   ],
   "source": [
    "print(f\"Best modularity obtained: {mvmc_clstr.best_modularity}\")\n",
    "print(f\"Best result found at iteration: {mvmc_clstr.best_iteration}\")"
   ]
  },
  {
   "cell_type": "code",
   "execution_count": 15,
   "id": "b546147b-d741-45bf-9e94-3ffa230f1289",
   "metadata": {},
   "outputs": [
    {
     "name": "stdout",
     "output_type": "stream",
     "text": [
      "ARI between found clusters and labels: 0.39102072611960464\n",
      "AMI between found clusters and labels: 0.3772787791420943\n"
     ]
    }
   ],
   "source": [
    "# compare found clusters to the actual labels\n",
    "\n",
    "print(f\"ARI between found clusters and labels: {adjusted_rand_score(y, y_preds)}\")\n",
    "print(f\"AMI between found clusters and labels: {adjusted_mutual_info_score(y, y_preds)}\")"
   ]
  }
 ],
 "metadata": {
  "kernelspec": {
   "display_name": "Python 3 (ipykernel)",
   "language": "python",
   "name": "python3"
  },
  "language_info": {
   "codemirror_mode": {
    "name": "ipython",
    "version": 3
   },
   "file_extension": ".py",
   "mimetype": "text/x-python",
   "name": "python",
   "nbconvert_exporter": "python",
   "pygments_lexer": "ipython3",
   "version": "3.9.12"
  }
 },
 "nbformat": 4,
 "nbformat_minor": 5
}
